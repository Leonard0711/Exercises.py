{
 "cells": [
  {
   "cell_type": "markdown",
   "metadata": {},
   "source": [
    "## Estadística Descriptiva\n",
    "##### Observaremos fundamentos de la estadística descriptiva con python\n"
   ]
  },
  {
   "cell_type": "code",
   "execution_count": 8,
   "metadata": {},
   "outputs": [],
   "source": [
    "#Instalación de librerias a utilizar\n",
    "import matplotlib.pyplot as plt\n",
    "import numpy as np\n",
    "import pandas as pd\n",
    "import seaborn as sns\n",
    "from typing import List\n",
    "import random\n"
   ]
  },
  {
   "cell_type": "code",
   "execution_count": 5,
   "metadata": {},
   "outputs": [],
   "source": [
    "Vector = List[float]"
   ]
  },
  {
   "cell_type": "markdown",
   "metadata": {},
   "source": [
    "# Tendencias centrales\n",
    "* #### Media (promedio)\n",
    "#####  La media se calcula sumando todos los valores y dividiendo la suma entre el número total de valores."
   ]
  },
  {
   "cell_type": "code",
   "execution_count": 35,
   "metadata": {},
   "outputs": [
    {
     "name": "stdout",
     "output_type": "stream",
     "text": [
      "[41, 8, 2, 18, 16, 15, 9, 7, 35, 6, 38, 28, 3, 47, 40, 14, 44, 36, 46, 42]\n",
      "[46, 42, 45, 35, 27, 15, 29, 38, 18, 1, 11, 28, 22, 41, 10, 14, 37, 7, 3, 13, 4]\n"
     ]
    }
   ],
   "source": [
    "#creando la lista de números de prueba\n",
    "\n",
    "random.seed(42)\n",
    "lista_par = random.sample(range(1, 50), 20)\n",
    "lista_impar = random.sample(range(1, 50), 21)\n",
    "print(lista_par)\n",
    "print(lista_impar)"
   ]
  },
  {
   "cell_type": "code",
   "execution_count": 22,
   "metadata": {},
   "outputs": [
    {
     "name": "stdout",
     "output_type": "stream",
     "text": [
      "La media de la lista es 24.75\n"
     ]
    }
   ],
   "source": [
    "def media(v: List[float]) -> float:\n",
    "    return sum(v) / len(v)\n",
    "\n",
    "resultado = media(lista_par)\n",
    "\n",
    "print(f\"La media de la lista es {resultado}\")"
   ]
  },
  {
   "cell_type": "markdown",
   "metadata": {},
   "source": [
    "* #### Mediana (el valor central)"
   ]
  },
  {
   "cell_type": "code",
   "execution_count": 24,
   "metadata": {},
   "outputs": [
    {
     "name": "stdout",
     "output_type": "stream",
     "text": [
      "La mediana de la lista impar es: 22\n"
     ]
    }
   ],
   "source": [
    "# Mediana de una cantidad impar de valores\n",
    "\n",
    "def mediana_impar(v: List[float]) -> float:\n",
    "    return sorted(v)[len(v)//2]\n",
    "\n",
    "resultado = mediana_impar(lista_impar)\n",
    "print(f\"La mediana de la lista impar es: {resultado}\")"
   ]
  },
  {
   "cell_type": "code",
   "execution_count": 33,
   "metadata": {},
   "outputs": [
    {
     "name": "stdout",
     "output_type": "stream",
     "text": [
      "La mediana de la lista par es: 31.5\n"
     ]
    }
   ],
   "source": [
    "# Mediana de una cantidad par de valores\n",
    "\n",
    "def mediana_par(v: List[float]) -> float:\n",
    "    v_sorted = sorted(v)\n",
    "    punto_medio = len(v) // 2\n",
    "    return (v_sorted[punto_medio] + v_sorted[punto_medio + 1]) / 2\n",
    "\n",
    "resultado = mediana_par(lista_par)\n",
    "print(f\"La mediana de la lista par es: {resultado}\")"
   ]
  },
  {
   "cell_type": "code",
   "execution_count": 36,
   "metadata": {},
   "outputs": [
    {
     "name": "stdout",
     "output_type": "stream",
     "text": [
      "El resultado de la mediana es: 22\n"
     ]
    }
   ],
   "source": [
    "# Funcion general para identificar si es una lista par o impar\n",
    "def mediana(v: List[float]) -> float:\n",
    "    return mediana_par(v) if len(v) % 2 == 0 else mediana_impar(v)\n",
    "\n",
    "resultado = mediana(lista_impar)\n",
    "print(f\"El resultado de la mediana es: {resultado}\")"
   ]
  },
  {
   "cell_type": "markdown",
   "metadata": {},
   "source": [
    "* #### Percentiles (conjuntos de datos)"
   ]
  },
  {
   "cell_type": "code",
   "execution_count": 42,
   "metadata": {},
   "outputs": [
    {
     "name": "stdout",
     "output_type": "stream",
     "text": [
      "El 10% de los datos es: 4\n",
      "El 50% de los datos es: 22\n",
      "El 90% de los datos es: 42\n"
     ]
    }
   ],
   "source": [
    "# Función para determinar los percentiles\n",
    "\n",
    "def percentil(v: List[float], p: float) -> float:\n",
    "    indice = int(len(v) * p)\n",
    "    return sorted(v)[indice]\n",
    "\n",
    "percentil_1 = percentil(lista_impar, 0.10)\n",
    "print(f\"El 10% de los datos es: {percentil_1}\")\n",
    "percentil_5 = percentil(lista_impar, 0.5)\n",
    "print(f\"El 50% de los datos es: {percentil_5}\")\n",
    "percentil_9 = percentil(lista_impar, 0.90)\n",
    "print(f\"El 90% de los datos es: {percentil_9}\")\n"
   ]
  }
 ],
 "metadata": {
  "kernelspec": {
   "display_name": "Estadistica",
   "language": "python",
   "name": "python3"
  },
  "language_info": {
   "codemirror_mode": {
    "name": "ipython",
    "version": 3
   },
   "file_extension": ".py",
   "mimetype": "text/x-python",
   "name": "python",
   "nbconvert_exporter": "python",
   "pygments_lexer": "ipython3",
   "version": "3.11.5"
  }
 },
 "nbformat": 4,
 "nbformat_minor": 2
}
