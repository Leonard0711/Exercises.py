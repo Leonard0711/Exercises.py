{
 "cells": [
  {
   "cell_type": "markdown",
   "metadata": {},
   "source": [
    "## Estadística Inferencial"
   ]
  },
  {
   "cell_type": "code",
   "execution_count": 3,
   "metadata": {},
   "outputs": [],
   "source": [
    "from typing import List\n",
    "import random\n",
    "import import_ipynb\n",
    "import math"
   ]
  },
  {
   "cell_type": "code",
   "execution_count": 4,
   "metadata": {},
   "outputs": [],
   "source": [
    "Vector = List[float]"
   ]
  },
  {
   "cell_type": "markdown",
   "metadata": {},
   "source": [
    "* ##### Covarianza\n",
    "Es una medida de variabilidad conjunta de de dos variables. Es decir como cambian juntas las variables,\\\n",
    "una covarianza positiva indica que las variables tienden a aumentar o disminuir juntas. Una covarianza negativa\\\n",
    "indica que las variables tienden a cambiar en direcciones opuestas. Cabe resalta que no es una medida estandarizada."
   ]
  },
  {
   "cell_type": "code",
   "execution_count": 8,
   "metadata": {},
   "outputs": [],
   "source": [
    "from algebra_lineal import dot\n",
    "from Descriptiva import de_media\n",
    "\n",
    "def covarianza(v: List[float], w: List[float]) -> float:\n",
    "    assert len(v) == len(w), \"Las listas tienen que tener la misma longitud\"\n",
    "    return dot(de_media(v), de_media(w)) / len(v) - 1"
   ]
  },
  {
   "cell_type": "markdown",
   "metadata": {},
   "source": [
    "* ##### Correlación\n",
    "La correlación es una medida normalizada o estandarizada de la covarianza que permite comparar la fuerza de\\\n",
    "la relación entre diferentes pares de variables.\n",
    "\n",
    "La correlación no tiene unidad y siempre se encontrará entre -1 (anticorrelación perfecta) y 1 (correlación perfecta)."
   ]
  },
  {
   "cell_type": "code",
   "execution_count": 11,
   "metadata": {},
   "outputs": [],
   "source": [
    "from Descriptiva import des_estandar\n",
    "\n",
    "def correlacion(v: List[float], w: List[float]) -> float:\n",
    "    std_v = des_estandar(v)\n",
    "    std_w = des_estandar(w)\n",
    "\n",
    "    if std_v > 0 and std_w > 0: \n",
    "        return covarianza(v, w)/(std_v * std_w)\n",
    "    else:\n",
    "        return 0 # Si no hay variación la correlacion es 0"
   ]
  }
 ],
 "metadata": {
  "kernelspec": {
   "display_name": "Python 3",
   "language": "python",
   "name": "python3"
  },
  "language_info": {
   "codemirror_mode": {
    "name": "ipython",
    "version": 3
   },
   "file_extension": ".py",
   "mimetype": "text/x-python",
   "name": "python",
   "nbconvert_exporter": "python",
   "pygments_lexer": "ipython3",
   "version": "3.11.5"
  }
 },
 "nbformat": 4,
 "nbformat_minor": 2
}
