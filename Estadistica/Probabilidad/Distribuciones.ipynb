{
 "cells": [
  {
   "cell_type": "code",
   "execution_count": 1,
   "metadata": {},
   "outputs": [],
   "source": [
    "from mpl_toolkits.mplot3d import Axes3D\n",
    "import pandas as pd\n",
    "import numpy as np\n",
    "import matplotlib.pyplot as plt\n",
    "from scipy.stats import norm\n",
    "import seaborn as sns\n",
    "import xlrd\n"
   ]
  },
  {
   "cell_type": "markdown",
   "metadata": {},
   "source": [
    "## Distribución normal teórica\n",
    "\n",
    "\n",
    "$$P(X) = \\frac{1}{\\sigma \\sqrt{2 \\pi}} \\exp{\\left[-\\frac{1}{2}\\left(\\frac{X-\\mu}{\\sigma} \\right)^2 \\right]}$$\n",
    "\n",
    "* $\\mu$: media de la distribución\n",
    "* $\\sigma$: desviación estándar de la distribución"
   ]
  },
  {
   "cell_type": "code",
   "execution_count": 2,
   "metadata": {},
   "outputs": [],
   "source": [
    "# definimos nuestra distribución gaussiana\n",
    "def gaussian(x, mu, sigma):  #mu: promedio o media; sigma: desviaciín estnadar de la distribución\n",
    "  return 1/(sigma*np.sqrt(2*np.pi))*np.exp(-0.5*pow((x-mu)/sigma,2))"
   ]
  },
  {
   "cell_type": "code",
   "execution_count": null,
   "metadata": {},
   "outputs": [
    {
     "ename": "",
     "evalue": "",
     "output_type": "error",
     "traceback": [
      "\u001b[1;31mLa ejecución de celdas con 'py39 (Python 3.9.18)' requiere el paquete ipykernel.\n",
      "\u001b[1;31mEjecute el siguiente comando para instalar 'ipykernel' en el entorno de Python. comando \n",
      "\u001b[1;31m: 'conda install -p /home/leonardope/anaconda3/envs/py39 ipykernel --update-deps --force-reinstall'"
     ]
    }
   ],
   "source": [
    "x = np.arange(-4,4,0.1)\n",
    "y = gaussian(x, 0.0, 1.0)\n",
    "\n",
    "plt.plot(x, y)\n",
    "plt.show()"
   ]
  },
  {
   "cell_type": "code",
   "execution_count": null,
   "metadata": {},
   "outputs": [
    {
     "ename": "",
     "evalue": "",
     "output_type": "error",
     "traceback": [
      "\u001b[1;31mLa ejecución de celdas con 'py39 (Python 3.9.18)' requiere el paquete ipykernel.\n",
      "\u001b[1;31mEjecute el siguiente comando para instalar 'ipykernel' en el entorno de Python. comando \n",
      "\u001b[1;31m: 'conda install -p /home/leonardope/anaconda3/envs/py39 ipykernel --update-deps --force-reinstall'"
     ]
    }
   ],
   "source": [
    "# usando scipy\n",
    "dist = norm(0, 1) #norm: permite construir una distribución normal o gaussiana (0: eje central, 1: desviación estándar)\n",
    "x = np.arange(-4,4,0.1)\n",
    "y = [dist.pdf(value) for value in x] #pdf: Función de densidad de probabilidad <> Probability density function\n",
    "plt.plot(x, y)\n",
    "plt.show()"
   ]
  },
  {
   "cell_type": "code",
   "execution_count": null,
   "metadata": {},
   "outputs": [
    {
     "ename": "",
     "evalue": "",
     "output_type": "error",
     "traceback": [
      "\u001b[1;31mLa ejecución de celdas con 'py39 (Python 3.9.18)' requiere el paquete ipykernel.\n",
      "\u001b[1;31mEjecute el siguiente comando para instalar 'ipykernel' en el entorno de Python. comando \n",
      "\u001b[1;31m: 'conda install -p /home/leonardope/anaconda3/envs/py39 ipykernel --update-deps --force-reinstall'"
     ]
    }
   ],
   "source": [
    "# calculando la distribución acumulada\n",
    "dist = norm(0, 1)\n",
    "x = np.arange(-4,4,0.1)\n",
    "y = [dist.cdf(value) for value in x] #usamos la densidad de probabilidad acumulada\n",
    "plt.plot(x, y)\n",
    "plt.show()"
   ]
  },
  {
   "cell_type": "markdown",
   "metadata": {},
   "source": [
    "### Distribución normal (gausiana) a partir de los datos"
   ]
  },
  {
   "cell_type": "code",
   "execution_count": null,
   "metadata": {},
   "outputs": [
    {
     "ename": "",
     "evalue": "",
     "output_type": "error",
     "traceback": [
      "\u001b[1;31mLa ejecución de celdas con 'py39 (Python 3.9.18)' requiere el paquete ipykernel.\n",
      "\u001b[1;31mEjecute el siguiente comando para instalar 'ipykernel' en el entorno de Python. comando \n",
      "\u001b[1;31m: 'conda install -p /home/leonardope/anaconda3/envs/py39 ipykernel --update-deps --force-reinstall'"
     ]
    }
   ],
   "source": [
    "df = pd.read_excel('lenght.xls')\n",
    "arr = df['Normally Distributed Housefly Wing Lengths'].values[3:]\n",
    "values, dist = np.unique(arr, return_counts=True) #values, dist: vienen a ser 2 listas de los arr(x) valores únicos y dist(return_counts): las frecuencias\n",
    "print(values)\n",
    "plt.bar(values, dist)\n",
    "plt.show()"
   ]
  },
  {
   "cell_type": "code",
   "execution_count": null,
   "metadata": {},
   "outputs": [
    {
     "ename": "",
     "evalue": "",
     "output_type": "error",
     "traceback": [
      "\u001b[1;31mLa ejecución de celdas con 'py39 (Python 3.9.18)' requiere el paquete ipykernel.\n",
      "\u001b[1;31mEjecute el siguiente comando para instalar 'ipykernel' en el entorno de Python. comando \n",
      "\u001b[1;31m: 'conda install -p /home/leonardope/anaconda3/envs/py39 ipykernel --update-deps --force-reinstall'"
     ]
    }
   ],
   "source": [
    "# Estimacion de la distribucion de probabilidad\n",
    "mu = arr.mean()\n",
    "\n",
    "# Distribución teórica\n",
    "sigma = arr.std()\n",
    "dist = norm(mu, sigma)\n",
    "x = np.arange(30, 60, 0.1)\n",
    "y = [dist.pdf(value) for value in x]\n",
    "plt.plot(x, y)\n",
    "\n",
    "# Datos\n",
    "values, dist = np.unique(arr, return_counts=True)\n",
    "plt.bar(values, dist/len(arr))\n",
    "plt.show()"
   ]
  },
  {
   "cell_type": "code",
   "execution_count": null,
   "metadata": {},
   "outputs": [
    {
     "ename": "",
     "evalue": "",
     "output_type": "error",
     "traceback": [
      "\u001b[1;31mLa ejecución de celdas con 'py39 (Python 3.9.18)' requiere el paquete ipykernel.\n",
      "\u001b[1;31mEjecute el siguiente comando para instalar 'ipykernel' en el entorno de Python. comando \n",
      "\u001b[1;31m: 'conda install -p /home/leonardope/anaconda3/envs/py39 ipykernel --update-deps --force-reinstall'"
     ]
    }
   ],
   "source": []
  }
 ],
 "metadata": {
  "kernelspec": {
   "display_name": "Python 3",
   "language": "python",
   "name": "python3"
  },
  "language_info": {
   "codemirror_mode": {
    "name": "ipython",
    "version": 3
   },
   "file_extension": ".py",
   "mimetype": "text/x-python",
   "name": "python",
   "nbconvert_exporter": "python",
   "pygments_lexer": "ipython3",
   "version": "3.10.12"
  }
 },
 "nbformat": 4,
 "nbformat_minor": 2
}
