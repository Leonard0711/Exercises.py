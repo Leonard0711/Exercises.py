{
 "cells": [
  {
   "cell_type": "code",
   "execution_count": 3,
   "metadata": {},
   "outputs": [],
   "source": [
    "import numpy as np\n",
    "import matplotlib.pyplot as plt\n",
    "from collections import Counter\n",
    "import pandas as pd\n",
    "import random\n",
    "from re import X\n",
    "import scipy.stats as st"
   ]
  },
  {
   "cell_type": "code",
   "execution_count": 2,
   "metadata": {},
   "outputs": [],
   "source": [
    "x1=np.array([[49],[1.43]])\n",
    "x2=np.array([[51],[1.55]])\n",
    "x3=np.array([[57],[1.58]])\n",
    "x4=np.array([[47],[1.55]])\n",
    "x5=np.array([[54],[1.60]])\n",
    "x6=np.array([[56],[1.58]])\n",
    "x7=np.array([[59],[1.64]])\n",
    "x8=np.array([[53],[1.61]])\n",
    "x9=np.array([[58],[1.63]])\n",
    "x10=np.array([[52],[1.60]])\n",
    "x11=np.array([[75],[1.73]])\n",
    "x12=np.array([[80],[1.75]])\n",
    "x13=np.array([[75],[1.69]])\n",
    "x14=np.array([[65],[1.71]])\n",
    "x15=np.array([[75],[1.79]])\n",
    "x16=np.array([[77],[1.76]])\n",
    "x17=np.array([[65],[1.71]])\n",
    "x18=np.array([[70],[1.70]])\n",
    "x19=np.array([[78],[1.81]])\n",
    "x20=np.array([[70],[1.67]])\n",
    "\n",
    "c0=np.zeros(10) #niños\n",
    "c1=np.ones(10) #adultos"
   ]
  }
 ],
 "metadata": {
  "kernelspec": {
   "display_name": "Python 3",
   "language": "python",
   "name": "python3"
  },
  "language_info": {
   "codemirror_mode": {
    "name": "ipython",
    "version": 3
   },
   "file_extension": ".py",
   "mimetype": "text/x-python",
   "name": "python",
   "nbconvert_exporter": "python",
   "pygments_lexer": "ipython3",
   "version": "3.10.12"
  }
 },
 "nbformat": 4,
 "nbformat_minor": 2
}
